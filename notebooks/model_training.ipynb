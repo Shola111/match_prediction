# EPL Match Outcome Prediction

This notebook loads EPL data, does preprocessing, and builds a classifier to predict match outcomes.
